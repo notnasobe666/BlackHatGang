{
 "nbformat": 4,
 "nbformat_minor": 2,
 "metadata": {
  "language_info": {
   "name": "python",
   "codemirror_mode": {
    "name": "ipython",
    "version": 3
   },
   "version": "3.7.4-final"
  },
  "orig_nbformat": 2,
  "file_extension": ".py",
  "mimetype": "text/x-python",
  "name": "python",
  "npconvert_exporter": "python",
  "pygments_lexer": "ipython3",
  "version": 3,
  "kernelspec": {
   "name": "python3",
   "display_name": "Python 3"
  }
 },
 "cells": [
  {
   "cell_type": "markdown",
   "metadata": {},
   "source": [
    "<h1>Project 0: Inaugural project </h1>"
   ]
  },
  {
   "cell_type": "markdown",
   "metadata": {},
   "source": [
    "\n",
    "<b>Labor Supply Problem</b>"
   ]
  },
  {
   "cell_type": "markdown",
   "metadata": {},
   "source": [
    "Following labor supply problem is given: \n",
    "\n",
    "$$\n",
    "c^*,l^* = log(c) - v \\frac{l^{1+\\frac{1}{E}}}{1+\\frac{1}{E}}\n",
    "\\\\\n",
    "x = m + wl - [\\tau_0wl+\\tau_1 \\max(wl-\\kappa,0)]\\\\\n",
    "\n",
    "c \\in [0,x]\\\\\n",
    "l \\in [0,1]\\\\\n",
    "\n",
    "$$\n",
    "\n",
    "Where: \n",
    "c is consumption,\n",
    "l is labor supply,\n",
    "m is cash-on-hand, \n",
    "w is the wage rate, \n",
    "$$t_0$$ is the standard labor income tax\n",
    "$$t_1$$ is the top bracket labor income tax,\n",
    "k is the cut-off of top labor income bracket\n",
    "x is total resources\n",
    "v scales disutility of labor \n",
    "E is the Frisch elasticity of labor supply\n",
    "utility is monotonically increasing in consumption, which implies $$c^* = x$$"
   ]
  },
  {
   "cell_type": "markdown",
   "metadata": {},
   "source": [
    "<h2>Question 1</h2>"
   ]
  },
  {
   "cell_type": "code",
   "execution_count": 1,
   "metadata": {},
   "outputs": [],
   "source": [
    "# All used packages are imported\n",
    "\n",
    "import numpy as np\n",
    "import sympy as sp \n",
    "import pandas as pd"
   ]
  },
  {
   "cell_type": "code",
   "execution_count": null,
   "metadata": {},
   "outputs": [],
   "source": [
    "t0 = sm.symbols('t_0')\n",
    "t1 = sm.symbols('t_1')"
   ]
  },
  {
   "cell_type": "code",
   "execution_count": null,
   "metadata": {},
   "outputs": [],
   "source": [
    "#First Eq. (1) is defined and then the variables to keep variables in local environment\n",
    "\n",
    "def labor_supply(c,l,v,e):\n",
    "    #function body\n",
    "    return labor_supply\n",
    "\n",
    "# Variables are defined as\n",
    "m = 1\n",
    "t0 = 0.4\n",
    "t1 = 0.1\n",
    "k = 0.4\n",
    "v = 10\n",
    "e = 0.3\n"
   ]
  }
 ]
}