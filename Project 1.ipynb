{
 "nbformat": 4,
 "nbformat_minor": 2,
 "metadata": {
  "language_info": {
   "name": "python",
   "codemirror_mode": {
    "name": "ipython",
    "version": 3
   },
   "version": "3.7.1-final"
  },
  "orig_nbformat": 2,
  "file_extension": ".py",
  "mimetype": "text/x-python",
  "name": "python",
  "npconvert_exporter": "python",
  "pygments_lexer": "ipython3",
  "version": 3,
  "kernelspec": {
   "name": "python3",
   "display_name": "Python 3"
  }
 },
 "cells": [
  {
   "cell_type": "markdown",
   "metadata": {},
   "source": [
    "<h1>Project 0: Inaugural project </h1>"
   ]
  },
  {
   "cell_type": "markdown",
   "metadata": {},
   "source": [
    "\n",
    "<b>Labor Supply Problem</b>"
   ]
  },
  {
   "cell_type": "markdown",
   "metadata": {},
   "source": [
    "Following labor supply problem is given: \n",
    "\n",
    "$$\n",
    "c^*,l^* = log(c) - v \\frac{l^{1+\\frac{1}{E}}}{1+\\frac{1}{E}}\n",
    "\\\\\n",
    "x = m + wl - [\\tau_0wl+\\tau_1 \\max(wl-\\kappa,0)]\\\\\n",
    "\n",
    "c \\in [0,x]\\\\\n",
    "l \\in [0,1]\\\\\n",
    "\n",
    "$$\n",
    "\n",
    "Where: \n",
    "c is consumption,\n",
    "l is labor supply,\n",
    "m is cash-on-hand, \n",
    "w is the wage rate, \n",
    "$$t_0$$ is the standard labor income tax\n",
    "$$t_1$$ is the top bracket labor income tax,\n",
    "k is the cut-off of top labor income bracket\n",
    "x is total resources\n",
    "v scales disutility of labor \n",
    "E is the Frisch elasticity of labor supply\n",
    "utility is monotonically increasing in consumption, which implies $$c^* = x$$"
   ]
  },
  {
   "cell_type": "markdown",
   "metadata": {},
   "source": [
    "<h2>Question 1</h2>"
   ]
  },
  {
   "cell_type": "code",
   "execution_count": 25,
   "metadata": {},
   "outputs": [],
   "source": [
    "# All used packages are imported\n",
    "\n",
    "import numpy as np\n",
    "import sympy as sm \n",
    "from scipy import optimize\n"
   ]
  },
  {
   "cell_type": "code",
   "execution_count": 18,
   "metadata": {},
   "outputs": [],
   "source": [
    "t0 = sm.symbols('t_0')\n",
    "t1 = sm.symbols('t_1')"
   ]
  },
  {
   "cell_type": "code",
   "execution_count": 19,
   "metadata": {},
   "outputs": [],
   "source": [
    "\n",
    "\n"
   ]
  },
  {
   "cell_type": "code",
   "execution_count": 31,
   "metadata": {},
   "outputs": [
    {
     "name": "stdout",
     "output_type": "stream",
     "text": "labour supply is:0.31961536193545265\nconsumption is:1.173474855117951\nutility:(1.173474855117951, 0.31961536193545265, 10, 0.3)\n"
    }
   ],
   "source": [
    "m = 1 #cash-on-hand\n",
    "v = 10 #disutility of labor\n",
    "e = 0.3 #elasticity of labor supply\n",
    "t0 = 0.4 #standard labor income tax\n",
    "t1 = 0.1 #top bracket labor income tax\n",
    "k = 0.4 #cut-off for top labor income tax\n",
    "\n",
    "\n",
    "# Defining utility\n",
    "\n",
    "def utility(c,v,l,e):\n",
    "    u = np.log(c) - v*(l**(1+1/e)/(1+1/e))\n",
    "    return u\n",
    "\n",
    "# Defining constraint\n",
    "\n",
    "def eq(m,w,l,t0,t1,k):\n",
    "    x = m + w*l - (t0*w*l + t1*np.max(w*l-k,0))\n",
    "    return x\n",
    "\n",
    "\n",
    "def choice(l,w,e,v,t0,t1,k):\n",
    "    c = eq(m,w,l,t0,t1,k)\n",
    "    return -utility(c,v,l,e)\n",
    "\n",
    "\n",
    "def optimizer(w,e,v,t0,t1,k,m):\n",
    "    res = optimize.minimize_scalar(\n",
    "    choice, method='bounded',\n",
    "    bounds=(0,1), args=(w,e,v,t0,t1,k))\n",
    "    \n",
    "    labor_star = res.x\n",
    "    cons_star = eq(m,w,labor_star,t0,t1,k)\n",
    "    utility_star = (cons_star,labor_star,v,e)\n",
    "    \n",
    "    return labor_star,cons_star,utility_star\n",
    "\n",
    "labor_star = optimizer(0.5,e,v,t0,t1,k,m)[0]\n",
    "cons_star = optimizer(0.5,e,v,t0,t1,k,m)[1]\n",
    "u_star = optimizer(0.5,e,v,t0,t1,k,m)[2]\n",
    "\n",
    "print('labour supply is:' + str(labor_star))\n",
    "print('consumption is:' + str(cons_star))\n",
    "print('utility:' +  str(u_star))"
   ]
  },
  {
   "cell_type": "code",
   "execution_count": null,
   "metadata": {},
   "outputs": [],
   "source": []
  }
 ]
}