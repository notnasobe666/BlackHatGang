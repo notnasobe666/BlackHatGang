{
 "nbformat": 4,
 "nbformat_minor": 2,
 "metadata": {
  "language_info": {
   "name": "python",
   "codemirror_mode": {
    "name": "ipython",
    "version": 3
   },
   "version": "3.7.4-final"
  },
  "orig_nbformat": 2,
  "file_extension": ".py",
  "mimetype": "text/x-python",
  "name": "python",
  "npconvert_exporter": "python",
  "pygments_lexer": "ipython3",
  "version": 3,
  "kernelspec": {
   "name": "python3",
   "display_name": "Python 3"
  }
 },
 "cells": [
  {
   "cell_type": "markdown",
   "metadata": {},
   "source": [
    "<h1>Project 0: Inaugural project </h1>"
   ]
  },
  {
   "cell_type": "markdown",
   "metadata": {},
   "source": [
    "\n",
    "<b>Labor Supply Problem</b>"
   ]
  },
  {
   "cell_type": "markdown",
   "metadata": {},
   "source": [
    "Following labor supply problem is given: \n",
    "\n",
    "$$\n",
    "c^*,l^* = log(c) - v \\frac{l^{1+\\frac{1}{\\epsilon}}}{1+\\frac{1}{\\epsilon}}\n",
    "\\\\\n",
    "x = m + wl - [\\tau_0wl+\\tau_1 \\max(wl-\\kappa,0)]\\\\\n",
    "\n",
    "c \\in [0,x]\\\\\n",
    "l \\in [0,1]\\\\\n",
    "\n",
    "$$\n",
    "\n",
    "Where: \n",
    "c is consumption,\n",
    "l is labor supply,\n",
    "m is cash-on-hand, \n",
    "w is the wage rate, \n",
    "$$t_0$$ is the standard labor income tax\n",
    "$$t_1$$ is the top bracket labor income tax,\n",
    "k is the cut-off of top labor income bracket\n",
    "x is total resources\n",
    "v scales disutility of labor \n",
    "E is the Frisch elasticity of labor supply\n",
    "utility is monotonically increasing in consumption, which implies $$c^* = x$$"
   ]
  },
  {
   "cell_type": "code",
   "execution_count": 38,
   "metadata": {},
   "outputs": [
    {
     "ename": "SyntaxError",
     "evalue": "invalid syntax (<ipython-input-38-24bd678afafa>, line 1)",
     "output_type": "error",
     "traceback": [
      "\u001b[1;36m  File \u001b[1;32m\"<ipython-input-38-24bd678afafa>\"\u001b[1;36m, line \u001b[1;32m1\u001b[0m\n\u001b[1;33m    <h2>Question 1</h2>\u001b[0m\n\u001b[1;37m    ^\u001b[0m\n\u001b[1;31mSyntaxError\u001b[0m\u001b[1;31m:\u001b[0m invalid syntax\n"
     ]
    }
   ],
   "source": [
    "<h2>Question 1</h2>"
   ]
  },
  {
   "cell_type": "code",
   "execution_count": null,
   "metadata": {},
   "outputs": [],
   "source": [
    "# All used packages are imported\n",
    "\n",
    "import numpy as np\n",
    "import sympy as sm \n",
    "from scipy import optimize\n",
    "\n"
   ]
  },
  {
   "cell_type": "code",
   "execution_count": null,
   "metadata": {},
   "outputs": [],
   "source": [
    "t0 = sm.symbols('t_0')\n",
    "t1 = sm.symbols('t_1')"
   ]
  },
  {
   "cell_type": "code",
   "execution_count": null,
   "metadata": {},
   "outputs": [],
   "source": [
    "\n",
    "\n"
   ]
  },
  {
   "cell_type": "code",
   "execution_count": null,
   "metadata": {},
   "outputs": [],
   "source": [
    "m = 1 #cash-on-hand\n",
    "v = 10 #disutility of labor\n",
    "e = 0.3 #elasticity of labor supply\n",
    "t0 = 0.4 #standard labor income tax\n",
    "t1 = 0.1 #top bracket labor income tax\n",
    "k = 0.4 #cut-off for top labor income tax\n",
    "\n",
    "\n",
    "# Defining utility\n",
    "\n",
    "def utility(c,v,l,e):\n",
    "    u = np.log(c) - v*(l**(1+1/e)/(1+1/e))\n",
    "    return u\n",
    "\n",
    "# Defining constraint\n",
    "\n",
    "def constraint(m,w,l,t0,t1,k):\n",
    "    x = m + w*l - (t0*w*l + t1*np.max(w*l-k,0))\n",
    "    return x\n",
    "\n",
    "\n",
    "def consumption(l,w,e,v,t0,t1,k):\n",
    "    c = constraint(m,w,l,t0,t1,k)\n",
    "    return -utility(c,v,l,e)\n",
    "\n",
    "\n",
    "def optimizer(w,e,v,t0,t1,k,m):\n",
    "    res = optimize.minimize_scalar(\n",
    "    consumption, method='bounded',\n",
    "    bounds=(0,1), args=(w,e,v,t0,t1,k))\n",
    "    \n",
    "    labor_star = res.x\n",
    "    cons_star = constraint(m,w,labor_star,t0,t1,k)\n",
    "    utility_star = utility(cons_star,v,labor_star,e)\n",
    "    \n",
    "    return labor_star,cons_star,utility_star\n",
    "\n",
    "labor_star = optimizer(0.5,e,v,t0,t1,k,m)[0]\n",
    "cons_star = optimizer(0.5,e,v,t0,t1,k,m)[1]\n",
    "u_star = optimizer(0.5,e,v,t0,t1,k,m)[2]\n",
    "\n",
    "print('labour supply is:' + str(labor_star))\n",
    "print('consumption is:' + str(cons_star))\n",
    "print('utility:' +  str(u_star))"
   ]
  },
  {
   "cell_type": "markdown",
   "metadata": {},
   "source": [
    "<h2>Question 2</h2>"
   ]
  },
  {
   "cell_type": "code",
   "execution_count": null,
   "metadata": {},
   "outputs": [],
   "source": [
    "import matplotlib.pyplot as plt\n",
    "plt.style.use('seaborn-darkgrid')\n",
    "\n",
    "N = 5000\n",
    "w_vector = np.random.uniform(0.5, 1.5, size = N)\n",
    "l_optimal = np.empty(N)\n",
    "c_optimal = np.empty(N) \n",
    "\n",
    "for i,w in enumerate(w_vector):\n",
    "    opt = optimizer(w,e,v,t0,t1,k,m)\n",
    "    l_optimal[i] = opt[0]\n",
    "    c_optimal[i] = opt[1]\n",
    "\n",
    "fig = plt.figure(figsize=(10,4))\n",
    "\n",
    "ax_left = fig.add_subplot(1,2,1)\n",
    "\n",
    "ax_left.plot(w_vector,l_optimal)\n",
    "\n",
    "ax_left.set_title('Optimal labour supply given wage')\n",
    "ax_left.set_xlabel('$w$')\n",
    "ax_left.set_ylabel('$l^\\star$')\n",
    "ax_left.grid(True)\n",
    "\n",
    "# c. right plot\n",
    "ax_right = fig.add_subplot(1,2,2)\n",
    "\n",
    "ax_right.plot(w_vector,c_optimal)\n",
    "\n",
    "ax_right.set_title('Optimal consumption given wage')\n",
    "ax_right.set_xlabel('$w$')\n",
    "ax_right.set_ylabel('$c^\\star$')\n",
    "ax_right.grid(True)\n",
    "\n",
    "plt.show\n"
   ]
  },
  {
   "cell_type": "markdown",
   "metadata": {},
   "source": [
    "\n",
    "<h2>Question 3</h2>"
   ]
  },
  {
   "cell_type": "code",
   "execution_count": null,
   "metadata": {},
   "outputs": [],
   "source": [
    "# Calculate the tax revenue\n",
    "\n",
    "tax_revenue = np.sum( t0 * w_vector * l_optimal + t1 * np.max( w_vector * l_optimal - k ,0 ))\n",
    "print('Total tax revenue is: '+ str(tax_revenue))\n"
   ]
  }
 ]
}