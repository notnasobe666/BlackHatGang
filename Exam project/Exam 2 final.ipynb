{
 "cells": [
  {
   "cell_type": "code",
   "execution_count": 42,
   "metadata": {},
   "outputs": [],
   "source": [
    "import numpy as np\n",
    "import scipy as sp\n",
    "from scipy import linalg\n",
    "from scipy import optimize\n",
    "from scipy import interpolate\n",
    "import sympy as sm\n",
    "\n",
    "%matplotlib inline\n",
    "import matplotlib.pyplot as plt\n",
    "plt.style.use('seaborn-whitegrid')\n",
    "from matplotlib import cm\n",
    "from mpl_toolkits.mplot3d import Axes3D"
   ]
  },
  {
   "cell_type": "markdown",
   "metadata": {},
   "source": [
    "# Durable purchases"
   ]
  },
  {
   "cell_type": "markdown",
   "metadata": {},
   "source": [
    "Consider a **household** living in two periods.\n",
    "\n",
    "In the **second period** it gets utility from **non-durable consumption**, $c$, and **durable consumption**, $d+\\chi x$:\n",
    "\n",
    "$$\n",
    "\\begin{aligned}\n",
    "v_{2}(m_{2},d)&= \\max_{c}\\frac{(c^{\\alpha}(d+\\chi x)^{1-\\alpha})^{1-\\rho}}{1-\\rho}\\\\\n",
    "\\text{s.t.} \\\\\n",
    "x &= m_{2}-c \\\\\n",
    "c &\\in [0,m_{2}]\n",
    "\\end{aligned}\n",
    "$$\n",
    "\n",
    "where \n",
    "\n",
    "* $m_2$ is cash-on-hand in the beginning of period 2\n",
    "* $c$ is non-durable consumption\n",
    "* $d$ is pre-commited durable consumption\n",
    "* $x = m_2 - c$ is extra durable consumption\n",
    "* $\\rho > 1$ is the risk aversion coefficient\n",
    "* $\\alpha \\in (0,1)$ is the utility weight on non-durable consumption\n",
    "* $\\chi \\in (0,1)$ implies that extra durable consumption is *less* valuable than pre-comitted durable consumption\n",
    "* the second constraint ensures the household *cannot* die in debt"
   ]
  },
  {
   "cell_type": "markdown",
   "metadata": {},
   "source": [
    "The **value function** $v_2(m_2,d)$ measures the household's value of having $m_2$ at the beginning of period 2 with precomitted durable consumption of $d$. The optimal choice of non-durable consumption is denoted $c^{\\ast}(m_2,d)$. The optimal extra durable consumption function is $x^{\\ast}(m_2,d) = m_2-c^{\\ast}(m_2,d)$."
   ]
  },
  {
   "cell_type": "markdown",
   "metadata": {},
   "source": [
    "Define the so-called **end-of-period 1 value function** as:\n",
    "\n",
    "$$\n",
    "\\begin{aligned}\n",
    "w(a,d)&\\equiv\\beta\\mathbb{E}_{1}\\left[v_2(m_2,d)\\right]\n",
    "\\end{aligned}\n",
    "$$\n",
    "\n",
    "where \n",
    "\n",
    "$$\n",
    "\\begin{aligned}\n",
    "m_2&= (1+r)a+y \\\\\n",
    "y &= \\begin{cases}\n",
    "1-\\Delta & \\text{with prob. }\\frac{1}{3}\\\\\n",
    "1 & \\text{with prob. }\\frac{1}{3}\\\\\n",
    "1+\\Delta & \\text{with prob. }\\frac{1}{3}\n",
    "\\end{cases}\\\\\n",
    "\\end{aligned}\n",
    "$$\n",
    "\n",
    "and\n",
    "\n",
    "* $a$ is assets at the end of period 1\n",
    "* $\\beta > 0$ is the discount factor\n",
    "* $\\mathbb{E}_1$ is the expectation operator conditional on information in period 1\n",
    "* $y$ is income in period 2\n",
    "* $\\Delta \\in (0,1)$ is the level of income risk (mean-preserving)\n",
    "* $r$ is the return on savings"
   ]
  },
  {
   "cell_type": "markdown",
   "metadata": {},
   "source": [
    "In the **first period**, the household chooses it's pre-comitted level of durable consumption for the next-period,\n",
    "\n",
    "$$\n",
    "\\begin{aligned}\n",
    "v_{1}(m_{1})&=\\max_{d} w(a,d)\\\\&\\text{s.t.}&\\\\\n",
    "a&= m_{1}-d \\\\\n",
    "d&\\in [0,m_{1}]\\\\\n",
    "\\end{aligned}\n",
    "$$\n",
    "\n",
    "where $m_1$ is cash-on-hand in period 1. The second constraint ensures the household *cannot* borrow. The **value function** $v_1(m_1)$ measures the household's value of having $m_1$ at the beginning of period 1. The optimal choice of pre-committed durable consumption is denoted $d^{\\ast}(m_1)$."
   ]
  },
  {
   "cell_type": "markdown",
   "metadata": {},
   "source": [
    "The **parameters** and **grids** for $m_1$, $m_2$ and $d$ should be:"
   ]
  },
  {
   "cell_type": "markdown",
   "metadata": {},
   "source": [
    "a. parameters\n",
    "rho = 2\n",
    "alpha = 0.8\n",
    "beta = 0.96\n",
    "r = 0.04\n",
    "Delta = 0.25\n",
    "chi = 0.9\n",
    "\n",
    "b. grids\n",
    "m1_vec = np.linspace(1e-8,10,100)\n",
    "m2_vec = np.linspace(1e-8,10,100)\n",
    "d_vec = np.linspace(1e-8,5,100)"
   ]
  },
  {
   "cell_type": "markdown",
   "metadata": {},
   "source": [
    "**Question 1:** Find and plot the functions $v_{2}(m_{2},d)$, $c^{\\ast}(m_2,d)$, and $x^{\\ast}(m_2,d)$. Comment."
   ]
  },
  {
   "cell_type": "code",
   "execution_count": 43,
   "metadata": {},
   "outputs": [],
   "source": [
    "rho = 2\n",
    "alpha = 0.8\n",
    "r = 0.04\n",
    "beta = 0.96\n",
    "Delta = 0.25\n",
    "chi = 0.9"
   ]
  },
  {
   "cell_type": "markdown",
   "metadata": {},
   "source": [
    "Now, we define the functions"
   ]
  },
  {
   "cell_type": "code",
   "execution_count": 44,
   "metadata": {},
   "outputs": [],
   "source": [
    "def utility(c,d,m,alpha,rho,chi):\n",
    "    return ( ( (c**alpha) * ((d + chi*(m-c))**(1-alpha)) ) /(1-rho) )**(1-rho)\n",
    "\n",
    "def v2(c2,d2,m2,alpha,rho,chi):\n",
    "    return utility(c2,d2,m2,alpha,rho,chi)\n",
    "\n",
    "def v1(d2,m1,alpha,rho,beta,r,Delta,v2_interp):\n",
    "    \n",
    "    # a. v2 value, if low income\n",
    "    m2_low = (1+r)*(m1-d2) + 1-Delta\n",
    "    v2_low = v2_interp([m2_low,d2])[0]\n",
    "\n",
    "    # b. v2 value, if medium income\n",
    "    m2_med = (1+r)*(m1-d2) + 1\n",
    "    v2_med = v2_interp([m2_med,d2])[0]\n",
    "    \n",
    "    # c. v2 value, if high income\n",
    "    m2_high = (1+r)*(m1-d2) + 1+Delta\n",
    "    v2_high = v2_interp([m2_high,d2])[0]\n",
    "    \n",
    "    # c. expected v2 value\n",
    "    v2 = 1/3*v2_low + 1/3*v2_med + 1/3*v2_high\n",
    "    \n",
    "    # d. total value\n",
    "    return beta*v2"
   ]
  },
  {
   "cell_type": "markdown",
   "metadata": {},
   "source": [
    "Then, we solve period 2 using the above functions"
   ]
  },
  {
   "cell_type": "code",
   "execution_count": 45,
   "metadata": {},
   "outputs": [
    {
     "output_type": "error",
     "ename": "NameError",
     "evalue": "name 'm2_grid' is not defined",
     "traceback": [
      "\u001b[1;31m---------------------------------------------------------------------------\u001b[0m",
      "\u001b[1;31mNameError\u001b[0m                                 Traceback (most recent call last)",
      "\u001b[1;32m<ipython-input-45-882b7caa0fba>\u001b[0m in \u001b[0;36m<module>\u001b[1;34m\u001b[0m\n\u001b[0;32m     29\u001b[0m \u001b[1;33m\u001b[0m\u001b[0m\n\u001b[0;32m     30\u001b[0m \u001b[1;31m# define x\u001b[0m\u001b[1;33m\u001b[0m\u001b[1;33m\u001b[0m\u001b[1;33m\u001b[0m\u001b[0m\n\u001b[1;32m---> 31\u001b[1;33m \u001b[0mx2_grid\u001b[0m \u001b[1;33m=\u001b[0m \u001b[0mm2_grid\u001b[0m \u001b[1;33m-\u001b[0m \u001b[0mc2_grid\u001b[0m\u001b[1;33m\u001b[0m\u001b[1;33m\u001b[0m\u001b[0m\n\u001b[0m\u001b[0;32m     32\u001b[0m \u001b[1;33m\u001b[0m\u001b[0m\n\u001b[0;32m     33\u001b[0m \u001b[1;31m# solve\u001b[0m\u001b[1;33m\u001b[0m\u001b[1;33m\u001b[0m\u001b[1;33m\u001b[0m\u001b[0m\n",
      "\u001b[1;31mNameError\u001b[0m: name 'm2_grid' is not defined"
     ]
    }
   ],
   "source": [
    "def solve_period_2(alpha,rho,Delta,chi):\n",
    "\n",
    "    # a. grids\n",
    "    m2_vec = np.linspace(1e-8,10,100)\n",
    "    d2_vec = np.linspace(1e-8,5,100)\n",
    "    v2_grid = np.empty((100,100))\n",
    "    c2_grid = np.empty((100,100))\n",
    "    x2_grid = np.empty((100,100))\n",
    "\n",
    "    # b. solve for each m2 in grid\n",
    "    for i,m2 in enumerate(m2_vec):\n",
    "        for j,d2 in enumerate(d2_vec):\n",
    "\n",
    "            # i. objective\n",
    "            obj = lambda c2: -v2(c2,d2,m2,alpha,rho,chi)\n",
    "\n",
    "            # ii. initial value (consume half)\n",
    "            x0 = m2/2\n",
    "\n",
    "            # iii. optimizer\n",
    "            result = optimize.minimize_scalar(obj,x0,method='bounded',bounds=[1e-8,m2])\n",
    "\n",
    "            # iv. save\n",
    "            v2_grid[i,j] = -result.fun\n",
    "            c2_grid[i,j] = result.x\n",
    "            #x2_grid[i,j] = m2_grid - c2_grid\n",
    "        \n",
    "    return m2_vec,d2_vec,v2_grid,c2_grid\n",
    "\n",
    "# define x\n",
    "x2_grid = m2_grid - c2_grid\n",
    "\n",
    "# solve\n",
    "m2_vec,d2_vec,v2_grid,c2_grid = solve_period_2(alpha,rho,Delta,chi)\n",
    "\n",
    "# grids\n",
    "m2_grid,d2_grid = np.meshgrid(m2_vec,d2_vec,indexing='ij')"
   ]
  },
  {
   "cell_type": "code",
   "execution_count": 46,
   "metadata": {},
   "outputs": [
    {
     "output_type": "error",
     "ename": "NameError",
     "evalue": "name 'm2_grid' is not defined",
     "traceback": [
      "\u001b[1;31m---------------------------------------------------------------------------\u001b[0m",
      "\u001b[1;31mNameError\u001b[0m                                 Traceback (most recent call last)",
      "\u001b[1;32m<ipython-input-46-c72391e8e5cc>\u001b[0m in \u001b[0;36m<module>\u001b[1;34m\u001b[0m\n\u001b[0;32m      1\u001b[0m \u001b[1;31m# define x\u001b[0m\u001b[1;33m\u001b[0m\u001b[1;33m\u001b[0m\u001b[1;33m\u001b[0m\u001b[0m\n\u001b[1;32m----> 2\u001b[1;33m \u001b[0mx2_grid\u001b[0m \u001b[1;33m=\u001b[0m \u001b[0mm2_grid\u001b[0m \u001b[1;33m-\u001b[0m \u001b[0mc2_grid\u001b[0m\u001b[1;33m\u001b[0m\u001b[1;33m\u001b[0m\u001b[0m\n\u001b[0m\u001b[0;32m      3\u001b[0m \u001b[1;33m\u001b[0m\u001b[0m\n\u001b[0;32m      4\u001b[0m \u001b[1;31m# solve\u001b[0m\u001b[1;33m\u001b[0m\u001b[1;33m\u001b[0m\u001b[1;33m\u001b[0m\u001b[0m\n\u001b[0;32m      5\u001b[0m \u001b[0mm2_vec\u001b[0m\u001b[1;33m,\u001b[0m\u001b[0md2_vec\u001b[0m\u001b[1;33m,\u001b[0m\u001b[0mv2_grid\u001b[0m\u001b[1;33m,\u001b[0m\u001b[0mc2_grid\u001b[0m \u001b[1;33m=\u001b[0m \u001b[0msolve_period_2\u001b[0m\u001b[1;33m(\u001b[0m\u001b[0malpha\u001b[0m\u001b[1;33m,\u001b[0m\u001b[0mrho\u001b[0m\u001b[1;33m,\u001b[0m\u001b[0mDelta\u001b[0m\u001b[1;33m,\u001b[0m\u001b[0mchi\u001b[0m\u001b[1;33m)\u001b[0m\u001b[1;33m\u001b[0m\u001b[1;33m\u001b[0m\u001b[0m\n",
      "\u001b[1;31mNameError\u001b[0m: name 'm2_grid' is not defined"
     ]
    }
   ],
   "source": [
    "# define x\n",
    "x2_grid = m2_grid - c2_grid\n",
    "\n",
    "# solve\n",
    "m2_vec,d2_vec,v2_grid,c2_grid = solve_period_2(alpha,rho,Delta,chi)\n",
    "\n",
    "# grids\n",
    "m2_grid,d2_grid = np.meshgrid(m2_vec,d2_vec,indexing='ij')"
   ]
  },
  {
   "cell_type": "markdown",
   "metadata": {},
   "source": [
    "Finally, we can plot the results:"
   ]
  },
  {
   "cell_type": "markdown",
   "metadata": {},
   "source": [
    "For $v_{2}(m_{2},d)$:"
   ]
  },
  {
   "cell_type": "code",
   "execution_count": 47,
   "metadata": {},
   "outputs": [
    {
     "output_type": "error",
     "ename": "NameError",
     "evalue": "name 'v2_grid' is not defined",
     "traceback": [
      "\u001b[1;31m---------------------------------------------------------------------------\u001b[0m",
      "\u001b[1;31mNameError\u001b[0m                                 Traceback (most recent call last)",
      "\u001b[1;32m<ipython-input-47-52f383888201>\u001b[0m in \u001b[0;36m<module>\u001b[1;34m\u001b[0m\n\u001b[0;32m      4\u001b[0m \u001b[1;33m\u001b[0m\u001b[0m\n\u001b[0;32m      5\u001b[0m \u001b[1;31m# a.1 constrain v2 values for plot purpose\u001b[0m\u001b[1;33m\u001b[0m\u001b[1;33m\u001b[0m\u001b[1;33m\u001b[0m\u001b[0m\n\u001b[1;32m----> 6\u001b[1;33m \u001b[0mlimit_v2\u001b[0m\u001b[1;33m=\u001b[0m\u001b[0mnp\u001b[0m\u001b[1;33m.\u001b[0m\u001b[0marray\u001b[0m\u001b[1;33m(\u001b[0m\u001b[0mnp\u001b[0m\u001b[1;33m.\u001b[0m\u001b[0mcopy\u001b[0m\u001b[1;33m(\u001b[0m\u001b[0mv2_grid\u001b[0m\u001b[1;33m)\u001b[0m\u001b[1;33m)\u001b[0m\u001b[1;33m\u001b[0m\u001b[1;33m\u001b[0m\u001b[0m\n\u001b[0m\u001b[0;32m      7\u001b[0m \u001b[0mlimit_v2\u001b[0m\u001b[1;33m[\u001b[0m\u001b[0mlimit_v2\u001b[0m\u001b[1;33m<\u001b[0m\u001b[1;33m(\u001b[0m\u001b[1;33m-\u001b[0m\u001b[1;36m1\u001b[0m\u001b[1;33m)\u001b[0m\u001b[1;33m]\u001b[0m\u001b[1;33m=\u001b[0m\u001b[1;33m-\u001b[0m\u001b[1;36m1\u001b[0m\u001b[1;33m\u001b[0m\u001b[1;33m\u001b[0m\u001b[0m\n\u001b[0;32m      8\u001b[0m \u001b[1;33m\u001b[0m\u001b[0m\n",
      "\u001b[1;31mNameError\u001b[0m: name 'v2_grid' is not defined"
     ]
    }
   ],
   "source": [
    "# a main\n",
    "fig = plt.figure()\n",
    "ax = fig.add_subplot(1,1,1,projection='3d')\n",
    "\n",
    "# a.1 constrain v2 values for plot purpose\n",
    "limit_v2=np.array(np.copy(v2_grid))\n",
    "limit_v2[limit_v2<(-1)]=-1\n",
    "\n",
    "cs = ax.plot_surface(m2_grid,d2_grid,limit_v2,cmap=cm.jet)\n",
    "\n",
    "# b. add labels\n",
    "ax.set_xlabel('$m_2$')\n",
    "ax.set_ylabel('$d_2$')\n",
    "ax.set_zlabel('$v_2$')\n",
    "\n",
    "# c. invert xaxis\n",
    "ax.invert_xaxis()\n",
    "\n",
    "# d. add colorbar\n",
    "fig.colorbar(cs);"
   ]
  },
  {
   "cell_type": "markdown",
   "metadata": {},
   "source": [
    "The figuere shows that a high $m_{2}$ yields a high $v_{2}$, because higher cash at hand in the beggining of period two, implies better consumption possibilities and thereby higher utility. Furthermore, a higher $d$ implies a higher $v_{2}$, because a higher stack of durable consumption goods in period 1 gives a higher utility in period 2"
   ]
  },
  {
   "cell_type": "markdown",
   "metadata": {},
   "source": [
    "For $c^{\\ast}(m_2,d)$:"
   ]
  },
  {
   "cell_type": "code",
   "execution_count": 48,
   "metadata": {},
   "outputs": [
    {
     "output_type": "error",
     "ename": "NameError",
     "evalue": "name 'm2_grid' is not defined",
     "traceback": [
      "\u001b[1;31m---------------------------------------------------------------------------\u001b[0m",
      "\u001b[1;31mNameError\u001b[0m                                 Traceback (most recent call last)",
      "\u001b[1;32m<ipython-input-48-d31ffd0cdcd1>\u001b[0m in \u001b[0;36m<module>\u001b[1;34m\u001b[0m\n\u001b[0;32m      2\u001b[0m \u001b[0mfig\u001b[0m \u001b[1;33m=\u001b[0m \u001b[0mplt\u001b[0m\u001b[1;33m.\u001b[0m\u001b[0mfigure\u001b[0m\u001b[1;33m(\u001b[0m\u001b[1;33m)\u001b[0m\u001b[1;33m\u001b[0m\u001b[1;33m\u001b[0m\u001b[0m\n\u001b[0;32m      3\u001b[0m \u001b[0max\u001b[0m \u001b[1;33m=\u001b[0m \u001b[0mfig\u001b[0m\u001b[1;33m.\u001b[0m\u001b[0madd_subplot\u001b[0m\u001b[1;33m(\u001b[0m\u001b[1;36m1\u001b[0m\u001b[1;33m,\u001b[0m\u001b[1;36m1\u001b[0m\u001b[1;33m,\u001b[0m\u001b[1;36m1\u001b[0m\u001b[1;33m,\u001b[0m\u001b[0mprojection\u001b[0m\u001b[1;33m=\u001b[0m\u001b[1;34m'3d'\u001b[0m\u001b[1;33m)\u001b[0m\u001b[1;33m\u001b[0m\u001b[1;33m\u001b[0m\u001b[0m\n\u001b[1;32m----> 4\u001b[1;33m \u001b[0mcs\u001b[0m \u001b[1;33m=\u001b[0m \u001b[0max\u001b[0m\u001b[1;33m.\u001b[0m\u001b[0mplot_surface\u001b[0m\u001b[1;33m(\u001b[0m\u001b[0mm2_grid\u001b[0m\u001b[1;33m,\u001b[0m\u001b[0md2_grid\u001b[0m\u001b[1;33m,\u001b[0m\u001b[0mc2_grid\u001b[0m\u001b[1;33m,\u001b[0m\u001b[0mcmap\u001b[0m\u001b[1;33m=\u001b[0m\u001b[0mcm\u001b[0m\u001b[1;33m.\u001b[0m\u001b[0mjet\u001b[0m\u001b[1;33m)\u001b[0m\u001b[1;33m\u001b[0m\u001b[1;33m\u001b[0m\u001b[0m\n\u001b[0m\u001b[0;32m      5\u001b[0m \u001b[1;33m\u001b[0m\u001b[0m\n\u001b[0;32m      6\u001b[0m \u001b[1;31m# b. add labels\u001b[0m\u001b[1;33m\u001b[0m\u001b[1;33m\u001b[0m\u001b[1;33m\u001b[0m\u001b[0m\n",
      "\u001b[1;31mNameError\u001b[0m: name 'm2_grid' is not defined"
     ]
    }
   ],
   "source": [
    "# a. main\n",
    "fig = plt.figure()\n",
    "ax = fig.add_subplot(1,1,1,projection='3d')\n",
    "cs = ax.plot_surface(m2_grid,d2_grid,c2_grid,cmap=cm.jet)\n",
    "\n",
    "# b. add labels\n",
    "ax.set_xlabel('$m_2$')\n",
    "ax.set_ylabel('$d_2$')\n",
    "ax.set_zlabel('$c_2$')\n",
    "\n",
    "# c. invert xaxis\n",
    "ax.invert_xaxis()\n",
    "\n",
    "# d. add colorbar\n",
    "fig.colorbar(cs);"
   ]
  },
  {
   "cell_type": "markdown",
   "metadata": {},
   "source": [
    "The firgure shows that a high $m_{2}$ yields a high $c^{\\ast}$, because more cash at hand in the beginning of period 2 implies higher comsumption in period 2."
   ]
  },
  {
   "cell_type": "markdown",
   "metadata": {},
   "source": [
    "For $x^{\\ast}(m_2,d)$:"
   ]
  },
  {
   "cell_type": "code",
   "execution_count": 49,
   "metadata": {},
   "outputs": [
    {
     "output_type": "error",
     "ename": "NameError",
     "evalue": "name 'm2_grid' is not defined",
     "traceback": [
      "\u001b[1;31m---------------------------------------------------------------------------\u001b[0m",
      "\u001b[1;31mNameError\u001b[0m                                 Traceback (most recent call last)",
      "\u001b[1;32m<ipython-input-49-f030dbbe5597>\u001b[0m in \u001b[0;36m<module>\u001b[1;34m\u001b[0m\n\u001b[0;32m      3\u001b[0m \u001b[0max\u001b[0m \u001b[1;33m=\u001b[0m \u001b[0mfig\u001b[0m\u001b[1;33m.\u001b[0m\u001b[0madd_subplot\u001b[0m\u001b[1;33m(\u001b[0m\u001b[1;36m1\u001b[0m\u001b[1;33m,\u001b[0m\u001b[1;36m1\u001b[0m\u001b[1;33m,\u001b[0m\u001b[1;36m1\u001b[0m\u001b[1;33m,\u001b[0m\u001b[0mprojection\u001b[0m\u001b[1;33m=\u001b[0m\u001b[1;34m'3d'\u001b[0m\u001b[1;33m)\u001b[0m\u001b[1;33m\u001b[0m\u001b[1;33m\u001b[0m\u001b[0m\n\u001b[0;32m      4\u001b[0m \u001b[1;33m\u001b[0m\u001b[0m\n\u001b[1;32m----> 5\u001b[1;33m \u001b[0mcs\u001b[0m \u001b[1;33m=\u001b[0m \u001b[0max\u001b[0m\u001b[1;33m.\u001b[0m\u001b[0mplot_surface\u001b[0m\u001b[1;33m(\u001b[0m\u001b[0mm2_grid\u001b[0m\u001b[1;33m,\u001b[0m\u001b[0md2_grid\u001b[0m\u001b[1;33m,\u001b[0m\u001b[0mx2_grid\u001b[0m\u001b[1;33m,\u001b[0m\u001b[0mcmap\u001b[0m\u001b[1;33m=\u001b[0m\u001b[0mcm\u001b[0m\u001b[1;33m.\u001b[0m\u001b[0mjet\u001b[0m\u001b[1;33m)\u001b[0m\u001b[1;33m\u001b[0m\u001b[1;33m\u001b[0m\u001b[0m\n\u001b[0m\u001b[0;32m      6\u001b[0m \u001b[1;33m\u001b[0m\u001b[0m\n\u001b[0;32m      7\u001b[0m \u001b[1;31m# b. add labels\u001b[0m\u001b[1;33m\u001b[0m\u001b[1;33m\u001b[0m\u001b[1;33m\u001b[0m\u001b[0m\n",
      "\u001b[1;31mNameError\u001b[0m: name 'm2_grid' is not defined"
     ]
    }
   ],
   "source": [
    "# a. main\n",
    "fig = plt.figure()\n",
    "ax = fig.add_subplot(1,1,1,projection='3d')\n",
    "\n",
    "cs = ax.plot_surface(m2_grid,d2_grid,x2_grid,cmap=cm.jet)\n",
    "\n",
    "# b. add labels\n",
    "ax.set_xlabel('$m_2$')\n",
    "ax.set_ylabel('$d_2$')\n",
    "ax.set_zlabel('$x_2$')\n",
    "\n",
    "# c. invert xaxis\n",
    "ax.invert_xaxis()\n",
    "\n",
    "# d. add colorbar\n",
    "fig.colorbar(cs);"
   ]
  },
  {
   "cell_type": "markdown",
   "metadata": {},
   "source": [
    "$m_2$ has a positive effect on $x^{\\ast}$, which is clear from the definition of $x^{\\ast}$. $d$ has an indirect positive effect through $m_2$, because it affects $a$ positively, which affects $m_2$ positively. "
   ]
  },
  {
   "cell_type": "markdown",
   "metadata": {},
   "source": [
    "**Question 2:** Find and plot the functions $v_{1}(m_{1})$ and $d^{\\ast}(m_1)$. Comment."
   ]
  },
  {
   "cell_type": "markdown",
   "metadata": {},
   "source": [
    "**Hint:** For interpolation of $v_2(m_2,d)$ consider using `interpolate.RegularGridInterpolator([GRID-VECTOR1,GRID-VECTOR2],VALUE-MATRIX,bounds_error=False,fill_value=None)`."
   ]
  },
  {
   "cell_type": "code",
   "execution_count": 50,
   "metadata": {},
   "outputs": [
    {
     "output_type": "error",
     "ename": "NameError",
     "evalue": "name 'm2_vec' is not defined",
     "traceback": [
      "\u001b[1;31m---------------------------------------------------------------------------\u001b[0m",
      "\u001b[1;31mNameError\u001b[0m                                 Traceback (most recent call last)",
      "\u001b[1;32m<ipython-input-50-9b47c981381d>\u001b[0m in \u001b[0;36m<module>\u001b[1;34m\u001b[0m\n\u001b[0;32m     36\u001b[0m \u001b[1;33m\u001b[0m\u001b[0m\n\u001b[0;32m     37\u001b[0m \u001b[1;31m# b. construct interpolator\u001b[0m\u001b[1;33m\u001b[0m\u001b[1;33m\u001b[0m\u001b[1;33m\u001b[0m\u001b[0m\n\u001b[1;32m---> 38\u001b[1;33m v2_interp = interpolate.RegularGridInterpolator((m2_vec,d2_vec), v2_grid,\n\u001b[0m\u001b[0;32m     39\u001b[0m                                                 bounds_error=False,fill_value=None)\n\u001b[0;32m     40\u001b[0m \u001b[1;33m\u001b[0m\u001b[0m\n",
      "\u001b[1;31mNameError\u001b[0m: name 'm2_vec' is not defined"
     ]
    }
   ],
   "source": [
    "# a. define solve function\n",
    "def solve_period_1(alpha,rho,beta,r,Delta,v1,v2_interp):\n",
    "\n",
    "    # a. grids\n",
    "    m1_vec = np.linspace(1e-8,10,100)\n",
    "    v1_vec = np.empty(100)\n",
    "    #c1_vec = np.empty(100)\n",
    "    d2_vec = np.empty(100)\n",
    "    \n",
    "    # b. solve for each m1 in grid\n",
    "    for i,m1 in enumerate(m1_vec):\n",
    "        \n",
    "        # i. objective\n",
    "        obj = lambda x: -v1(x[0],m1,alpha,rho,beta,r,Delta,v2_interp)\n",
    "        \n",
    "        # ii. initial guess\n",
    "        x0 = [m1*1/3, m1*1/3]\n",
    "        \n",
    "        # iii. bounds and constraitns\n",
    "        bound = (1e-9,m1-1e-9)\n",
    "        bounds = (bound, bound)\n",
    "        ineq_con = {'type': 'ineq', 'fun': lambda x: m1-x[0]} \n",
    "        \n",
    "        # iv. optimize\n",
    "        result = optimize.minimize(obj,x0, method='SLSQP',\n",
    "                                   bounds=bounds,\n",
    "                                   constraints=[ineq_con])\n",
    "        \n",
    "        #result = optimize.minimize(obj,x0, method='Nelder-Mead')\n",
    "        \n",
    "        # v. save\n",
    "        v1_vec[i] = -result.fun\n",
    "        d2_vec[i] = result.x[0]\n",
    "     \n",
    "    return m1_vec,v1_vec,d2_vec\n",
    "\n",
    "# b. construct interpolator\n",
    "v2_interp = interpolate.RegularGridInterpolator((m2_vec,d2_vec), v2_grid,\n",
    "                                                bounds_error=False,fill_value=None)\n",
    "    \n",
    "# c. solve period 1\n",
    "m1_vec,v1_vec,d2_vec = solve_period_1(alpha,rho,beta,r,Delta,v1,v2_interp)\n",
    "\n",
    "# d. plot\n",
    "fig = plt.figure()\n",
    "ax = fig.add_subplot(1,1,1)\n",
    "ax.plot(m1_vec,v1_vec,label='v1 utility')\n",
    "ax.plot(m1_vec,d2_vec,label='durable consumption')\n",
    "ax.legend(loc='upper left')\n",
    "ax.set_xlabel('$m_1$')\n",
    "ax.set_xlim([0,11])\n",
    "ax.set_ylim([-2.5,2.5]);"
   ]
  },
  {
   "cell_type": "markdown",
   "metadata": {},
   "source": [
    "durable consumption is increasing linearily in m1 with a coefficient of (1-alpha), which comes from the Cobb-Douglas utility function."
   ]
  },
  {
   "cell_type": "markdown",
   "metadata": {},
   "source": [
    "Next, consider an **extension** of the model, where there is also a **period 0**. In this period, the household makes a choice whether to stick with the level of durables it has, $z = 0$, or adjust its stock of durables, $z = 1$. If adjusting, the household loses a part of the value of its durable stock; more specificaly it incurs a proportional loss of $\\Lambda \\in (0,1)$.\n",
    "\n",
    "Mathematically, the **household problem in period 0** is:\n",
    "\n",
    "$$\n",
    "\\begin{aligned}\n",
    "v_{0}(m_{0},d_{0}) &= \\max_{z\\in\\{0,1\\}} \\begin{cases}\n",
    "w(m_{0},d_{0}) & \\text{if } z = 0\\\\\n",
    "v_1(m_0+(1-\\Lambda) d_{0}) & \\text{if } z = 1\\\\\n",
    "\\end{cases}\\\\\n",
    "\\end{aligned}\n",
    "$$"
   ]
  },
  {
   "cell_type": "markdown",
   "metadata": {},
   "source": [
    "The **parameters** and **grids** for $m_0$ and $d_0$ should be:"
   ]
  },
  {
   "cell_type": "code",
   "execution_count": 51,
   "metadata": {},
   "outputs": [],
   "source": [
    "Lambda = 0.2\n",
    "m0_vec = np.linspace(1e-8,6,100)\n",
    "d0_vec = np.linspace(1e-8,3,100)"
   ]
  },
  {
   "cell_type": "markdown",
   "metadata": {},
   "source": [
    "**Question 3:** For which values of $m_0$ and  $d_0$ is the optimal choice not to adjust, i.e. $z = 0$? Show this in a plot. Give an interpretion of your results."
   ]
  },
  {
   "cell_type": "code",
   "execution_count": null,
   "metadata": {},
   "outputs": [],
   "source": []
  }
 ],
 "metadata": {
  "language_info": {
   "codemirror_mode": {
    "name": "ipython",
    "version": 3
   },
   "file_extension": ".py",
   "mimetype": "text/x-python",
   "name": "python",
   "nbconvert_exporter": "python",
   "pygments_lexer": "ipython3",
   "version": "3.7.4-final"
  },
  "orig_nbformat": 2,
  "kernelspec": {
   "name": "python3",
   "display_name": "Python 3"
  }
 },
 "nbformat": 4,
 "nbformat_minor": 2
}