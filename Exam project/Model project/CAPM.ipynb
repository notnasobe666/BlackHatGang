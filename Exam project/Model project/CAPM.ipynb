{
 "cells": [
  {
   "cell_type": "markdown",
   "metadata": {},
   "source": [
    "<h1> Model Project </h1>"
   ]
  },
  {
   "cell_type": "markdown",
   "metadata": {},
   "source": [
    "# The Optimal Asshole Portfolio\n",
    "\n",
    "## Aim of project and underlying assumptions:\n",
    "\n",
    "The aim of this project is to find the optimal portfolio combination of the following stocks:\n",
    "- RCI Hospitality Holdings Inc (RICK)\n",
    "- Philip Morris International (PM)\n",
    "- AeroVironment, Inc. (AVAV)\n",
    "- Ferrari N.V. (RACE)\n",
    "- Las Vegas Sands (LVS)\n",
    "- Canopy Growth (CGC)\n",
    "- Tiffany & Co. (TIF)\n",
    "- Tesla Motors (TSLA)\n",
    "\n",
    "To find the optimal portfolio, we take an offset in Modern Portfolio Theory, finding the portfolio combination that bears the lowest risk i.e. the Minimum Variance Portolio (MVP).  To find the optimal portfolio, we furthermore make use of the Capital Asset Pricing Model (CAPM), which ultimately gives us the portfolio with the optimal ratio between expected return and risk i.e where we maximze the sharpe-ratio.  \n",
    "\n",
    "In our model we make the following assumptions: \n",
    "\n",
    "- Investors are rational and risk-averse. \n",
    "- Historical returns is representative for future returns.\n",
    "- Investors are price takers, meaning they cannot influence future prices.\n",
    "- No transaction cost\n",
    "- Investors can lend and borrow unlimited at the same risk free rate\n",
    "\n",
    "Lastly we assume 253 trading days a year, and look at data from january 1st 2010 untill january 1st 2020 to make our estimations. Therfore our results will be showing the optimal portfolio per January 1st 2020. "
   ]
  },
  {
   "cell_type": "markdown",
   "metadata": {},
   "source": [
    "<h4> Theory of CAPM: </h4>"
   ]
  },
  {
   "cell_type": "markdown",
   "metadata": {},
   "source": [
    "CAPM solves the expected return of a risky assets. This can be expressed as: "
   ]
  },
  {
   "cell_type": "markdown",
   "metadata": {},
   "source": [
    "$$\n",
    "E R_i = R_f + \\beta_i (E R_m - R_f)\n",
    "$$"
   ]
  },
  {
   "cell_type": "markdown",
   "metadata": {},
   "source": [
    "Where: "
   ]
  },
  {
   "cell_type": "markdown",
   "metadata": {},
   "source": [
    "$E R_i =$ Expected return of investment <br>\n",
    "$R_f =$ risk-free rate <br>\n",
    "$\\beta_i =$ beta of the investment <br>\n",
    "$E R_m - R_f =$ market risk premium"
   ]
  },
  {
   "cell_type": "markdown",
   "metadata": {},
   "source": [
    "Three assumptions underlie the CAPM as well. These are: "
   ]
  },
  {
   "cell_type": "markdown",
   "metadata": {},
   "source": [
    "1. <i>Investors can buy and sell all securities at competitive market prices and can borrow and lend at the risk-free interest rate</i>\n",
    "2. <i>Investors hold only efficient portfolios of traded securities</i>\n",
    "3. <i>Investors have homogenous expectations</i>\n",
    "\n",
    "> <i>Source: Berk & DeMarzo, 2014</i>"
   ]
  },
  {
   "cell_type": "markdown",
   "metadata": {},
   "source": [
    "The risk-free rate will is this assignment equal the rate on a 10-year US treasury bill by the last trading date in 2019. <br>\n",
    "<br>\n",
    "Investment <i>i</i> is the optimized/minimized portfolio - either by minimizing the variance and thereby result in the mininum variance portfolio or optimizing the sharpe ratio and thereby optimizing the risk-adjusted return of the portfolio. <br>\n",
    "<br>"
   ]
  },
  {
   "cell_type": "markdown",
   "metadata": {},
   "source": [
    "Average annualized return for an asset, <i>i</i>:\n",
    "\n",
    "$$\n",
    "\\bar{R_i} = \\frac{1}{T} \\sum_{i=1}^T R_i \\times d \\hspace{10mm} \\\\ \n",
    "$$\n",
    "$\n",
    "\\textit{Where T is days and d is average annual trading days}\n",
    "$"
   ]
  },
  {
   "cell_type": "markdown",
   "metadata": {},
   "source": [
    "Logarithm of daily returns for an asset, <i>i</i>:\n",
    "\n",
    "$$\n",
    "Log(\\textit{Daily return}) = Log \\Big(\\frac{P_t}{P_{t-1}} - 1 \\Big)\n",
    "$$"
   ]
  },
  {
   "cell_type": "markdown",
   "metadata": {},
   "source": [
    "Covariance betwteen asset, <i>i</i> and asset, <i>j</i> from historical data:\n",
    "$$\n",
    "Cov(R_i,R_j) = \\frac{1}{T-1} {\\sum}_t (R_{i,t} - \\bar{R_i})(R_{j,t}- \\bar{R_j})\n",
    "$$"
   ]
  },
  {
   "cell_type": "markdown",
   "metadata": {},
   "source": [
    "Portfolio return:<br>\n",
    "As the weights, <i>x</i>, always adds up to 1, it can be expressed as a sum: $w_i = \\sum_i x_i = 1$. As a portfolio holds numerous of risky assets with different weights, the return of a portfolio is expressed as: <br>\n",
    "$$\n",
    "R_p = x_1 R_1 + x_2 R_2 +\\text{...}+ x_n R_n = {\\sum}_i x_i R_i\n",
    "$$ <br>\n"
   ]
  },
  {
   "cell_type": "markdown",
   "metadata": {},
   "source": [
    "Standard deviation (volatity) of a portfolio: <br>\n",
    "\n",
    "$$\n",
    "SD(R_p) = {\\sum}_i \\overbrace{x_i \\times SD(R_i) \\times Corr(R_i,R_p)}^{\\textit{i's contribution ot the volatility of the portfolio}}\n",
    "$$\n"
   ]
  },
  {
   "cell_type": "markdown",
   "metadata": {},
   "source": [
    "Sharpe ratio:\n",
    "\n",
    "$$\n",
    "\\text{Sharpe Ratio =} \\hspace{2mm} \\frac{\\text{Portfolio Excess Return}}{\\text{Portfolio Volatility}} = \\frac{E[R_p] - r_f}{SD(R_p)} = S(p)\n",
    "$$"
   ]
  },
  {
   "cell_type": "markdown",
   "metadata": {},
   "source": [
    "Beta of a portfolio:\n",
    "$$\n",
    "\\beta_p = \\sum_i x_i \\frac{Cov(R_i,R_{mkt})}{Var(R_{mkt})} \n",
    "$$"
   ]
  },
  {
   "cell_type": "markdown",
   "metadata": {},
   "source": [
    "Optimize sharpe ratio: <br>\n",
    "$$\n",
    "\\textit{arg max} \\hspace{1mm} S(p) \\hspace{5mm} \\text{s.t.} \\hspace{5mm} Cov(R_i,R_j)^{-1} \\times w_i \n",
    "$$"
   ]
  },
  {
   "cell_type": "markdown",
   "metadata": {},
   "source": [
    "Minimize variance for the portfolio: <br>\n",
    "$$\n",
    "\\textit{Min} \\hspace{1mm} SD(R_p) \\hspace{5mm} \\text{s.t.} \\hspace{5mm} Cov(R_i,R_j)^{-1} \\times 1,\\hspace{1mm} w_i = 1\n",
    "$$"
   ]
  },
  {
   "cell_type": "markdown",
   "metadata": {},
   "source": [
    "CAPM urge to solve for the most efficient portfolio based on risk-adjusted return (Sharpe Ratio). <br>\n",
    "<br>\n",
    "To prove such, the expected return of a portfolio will first be shown, then the two-stock theoren which lead onto the volatility of a Large portfolio. This shows that the same conditions will hold for a single asset portfolio and a multi-asset portfolio. <br>\n",
    "Afterwards the relationsship between risk and return will be explained as it is the foundation for the efficient portfolio and required returns. This conclusively explains the CAPM model and the importance of beta. <br>\n",
    "<br>"
   ]
  },
  {
   "cell_type": "markdown",
   "metadata": {},
   "source": [
    "First we show the expected return of a given portfolio, <i>i</i>: <br>\n",
    "<br>\n",
    "A portfolio is defined by the portfolio weights which is the included asset's contribution to the return of a portfolio. Simply put: \n",
    "<br>\n",
    "$$x_i = \\frac{\\textit{Value of investment, i}}{\\textit{Total value of portfolio}}$$\n",
    "<br>\n",
    "As the weights, <i>x</i>, always adds up to 1, it can be expressed as a sum: $\\sum_i x_i = 1$. As a portfolio holds numerous of risky assets with different weights, the return of a portfolio is expressed as: <br>\n",
    "$$\n",
    "R_p = x_1 R_1 + x_2 R_2 +\\text{...}+ x_n R_n = {\\sum}_i x_i R_i\n",
    "$$ <br>\n",
    "\n",
    "Knowing that the expectation of a sum is just the sum of the expectations and the expectation of a known multiple is the multiple of its expectation, a formula for the expected return of a portfolio can be derived: \n",
    "$$\n",
    "E R_p = E\\Big[{\\sum}_i x_i R_i\\Big] = {\\sum}_i E[x_i R_i] = {\\sum}_i x_i E[R_i]\n",
    "$$\n",
    "<br>\n",
    "> <i>Source: Berk & DeMarzo, 2014, pp. 352-353</i>"
   ]
  },
  {
   "cell_type": "markdown",
   "metadata": {},
   "source": [
    "Simple finance theory tells that diversification eliminates idiosyncratic risks through diversification. The remaining risk is the select stock's exposure to common risk. To measure the risk statistical calculations as coveriance and correlation is used to determine the volatility of a portfolio. Covariance express the deviation of the returns and correlation is determined to control the volatility by measuring the relatively dependency between every stock in a portfolio. <br>\n",
    "<br>\n",
    "The covariance is measured between to individual stocks on either its expected return or historical data. \n",
    "\n",
    "$$\n",
    "\\text{Covariance between two different stocks:} \\hspace{2mm} Cov(R_i,R_j) = E[(R_i - E[R_i](R_j-E[R_j])] \\\\ \\text{Covariance from historical data:} \\hspace{2mm} Cov(R_i,R_j) = \\frac{1}{T-1} {\\sum}_t (R_{i,t} - \\bar{R_i})(R_{j,t}- \\bar{R_j})\n",
    "$$\n",
    "\n",
    "The correlation is then expressed as: \n",
    "\n",
    "$$\n",
    "Corr(R_i,R_j) = \\frac{Cov(R_i,R_j)}{SD(R_i) SD(R_j)} \\hspace{10mm} \\textit{where} \\hspace{2mm} SD(R) = \\sqrt{Var(R)} = E[(R-E[R]^2] = {\\sum}_R p_R (R-E[R])^2\n",
    "$$\n",
    "\n",
    "The correlation will always have a value between -1 to 1.<br>\n",
    "<br>\n"
   ]
  },
  {
   "cell_type": "markdown",
   "metadata": {},
   "source": [
    "Given the knowledge of covariance and correlation the variance of a two stock portfolio can now be expressed. When conditions hold for a two stock portfolio it can be generalized and the portfolio theory will hold for N amount of included stocks. <br>\n",
    "<br>\n",
    "Before the variance of a portfolio can be expressed, the covariance and correlation to the same stock must be expressed. \n",
    "\n",
    "$$\n",
    "\\text{Covariance for the same stock:} \\hspace{2mm} Cov(R_s,R_s) = E[(R_s - E[R_s](R_s - E[R_s])] = E[(R_s - E[R_s])^2] = Var(R_s) \\\\\n",
    "\\text{Correlation for the same stock:} \\hspace{2mm} Corr(R_s,R_S) = \\frac{Cov(R_s,R_s)}{SD(R_s)SD(R_s)} = \\frac{Var(R_s)}{SD(R_s)^2} = 1\n",
    "$$\n",
    "\n",
    "Now the variance of a two stock portfolio can be expressed. A portfolio returns following: $R_p = x_1 R_1 + x_2 R_2$\n",
    "\n",
    "$$\n",
    "Var(R_p) = Cov(R_p,R_p) = Cov(x_1 R_1 + x_2 R_2, x_1 R_1 + x_2 R_2) = x_1 x_1 Cov(R_1,R_1) + x_1 x_2 Cov(R_1,R_2) + x_2 x_1 Cov(R_2,R_1) + x_2 x_2 Cov(R_2,R_2) \\\\ \n",
    "= x_1^2 Var(R_1) + x_2^2 Var(R_2) + 2 x_1 x_2 Cov(R_1,R_2)\n",
    "$$\n",
    "<br>\n",
    "The last step can be done due to $Cov(A+B,C) = Cov(A,C) + Cov(B,C)$ and $Cov(mA,B) = m Cov(A,B)$. \n",
    "<br>\n",
    "<br>\n",
    "\n",
    "Now the variance can be described for a multi-asset portfolio, just like the return is stated above for a multi-asset portfolio. It is simply done by generalizing the expression of the variance for a two stock portfolio shown above: \n",
    "\n",
    "$$\n",
    "Var(R_p) = Cov(R_p,R_p) = Cov({\\textstyle \\sum}_i x_i R_i, R_p) = {\\sum}_i x_i Cov(R_i,R_p) = {\\sum}_i x_i Cov(R_i, {\\textstyle \\sum}_j x_j R_j) = {\\sum}_i {\\sum}_j x_i x_j Cov(R_i,R_j)\n",
    "$$\n",
    "\n",
    "Hereby the covariance of a portfolio is shown. These is used as varibale to express the needed formulas for the CAPM equation. \n",
    "\n",
    "> <i>Source: Berk & DeMarzo, 2014, pp. 354-359</i>"
   ]
  },
  {
   "cell_type": "markdown",
   "metadata": {},
   "source": [
    "When including multiple assets to a portfolio it reduces the risk due to diversification - as earlier stated. With the assets having different weights a combined volatility also needed to be expressed. This is the standard deviation of a portfolio, which is expressed as: \n",
    "\n",
    "$$\n",
    "SD(R_p) = {\\sum}_i \\overbrace{x_i \\times SD(R_i) \\times Corr(R_i,R_p)}^{\\textit{i's contribution ot the volatility of the portfolio}}\n",
    "$$\n",
    "<br>\n",
    "\n",
    "This shows that every assets contributes with volatility to the portfolio but scalled with the correlation of the portfolio. <br>\n",
    "<br>"
   ]
  },
  {
   "cell_type": "markdown",
   "metadata": {},
   "source": [
    "Knowing the variance, correlation, standard deviation and return of a portfolio makes it possible to express sharpe ratio of a portfolio. The sharpe ratio is a measure of the risk-adjusted return and hereby the excess return relatively the risk. It is expressed as: \n",
    "\n",
    "$$\n",
    "\\text{Sharpe Ratio =} \\hspace{2mm} \\frac{\\text{Portfolio Excess Return}}{\\text{Portfolio Volatility}} = \\frac{E[R_p] - r_f}{SD(R_p)}\n",
    "$$\n",
    "<br>\n",
    "Where $r_f$ is the risk-free rate. <br>\n",
    "<br>\n",
    "\n",
    "Knowing the sharpe ratio makes it possible to express the beta of i in a portfolio, which is the last parameter needed to express the CAPM formula. Beta is derived for "
   ]
  },
  {
   "cell_type": "markdown",
   "metadata": {},
   "source": [
    "\n",
    "\n"
   ]
  },
  {
   "cell_type": "code",
   "execution_count": null,
   "metadata": {},
   "outputs": [],
   "source": []
  }
 ],
 "metadata": {
  "kernelspec": {
   "display_name": "Python 3",
   "language": "python",
   "name": "python3"
  },
  "language_info": {
   "codemirror_mode": {
    "name": "ipython",
    "version": 3
   },
   "file_extension": ".py",
   "mimetype": "text/x-python",
   "name": "python",
   "nbconvert_exporter": "python",
   "pygments_lexer": "ipython3",
   "version": "3.7.4"
  }
 },
 "nbformat": 4,
 "nbformat_minor": 4
}
