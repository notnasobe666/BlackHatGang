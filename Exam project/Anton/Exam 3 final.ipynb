{
 "cells": [
  {
   "cell_type": "code",
   "execution_count": 1,
   "metadata": {},
   "outputs": [],
   "source": [
    "import numpy as np\n",
    "\n",
    "import numpy as np\n",
    "import scipy as sp\n",
    "from scipy import linalg\n",
    "from scipy import optimize\n",
    "from scipy import interpolate\n",
    "import sympy as sm\n",
    "\n",
    "%matplotlib inline\n",
    "import matplotlib.pyplot as plt\n",
    "plt.style.use('seaborn-whitegrid')\n",
    "from matplotlib import cm\n",
    "from mpl_toolkits.mplot3d import Axes3D"
   ]
  },
  {
   "cell_type": "markdown",
   "metadata": {},
   "source": [
    "# Gradient descent"
   ]
  },
  {
   "cell_type": "markdown",
   "metadata": {},
   "source": [
    "Let $\\boldsymbol{x} = \\left[\\begin{array}{c}\n",
    "x_1 \\\\\n",
    "x_2\\\\\n",
    "\\end{array}\\right]$ be a two-dimensional vector. Consider the following algorithm:"
   ]
  },
  {
   "cell_type": "markdown",
   "metadata": {},
   "source": [
    "**Algorithm:** `gradient_descent()`\n",
    "\n",
    "**Goal:** Minimize the function $f(\\boldsymbol{x})$.\n",
    "\n",
    "1. Choose a tolerance $\\epsilon>0$, a scale factor $ \\Theta > 0$, and a small number $\\Delta > 0$\n",
    "2. Guess on $\\boldsymbol{x}_0$ and set $n=1$\n",
    "3. Compute a numerical approximation of the jacobian for $f$ by\n",
    "\n",
    "    $$\n",
    "    \\nabla f(\\boldsymbol{x}_{n-1}) \\approx \\frac{1}{\\Delta}\\left[\\begin{array}{c}\n",
    "    f\\left(\\boldsymbol{x}_{n-1}+\\left[\\begin{array}{c}\n",
    "    \\Delta\\\\\n",
    "    0\n",
    "    \\end{array}\\right]\\right)-f(\\boldsymbol{x}_{n-1})\\\\\n",
    "    f\\left(\\boldsymbol{x}_{n-1}+\\left[\\begin{array}{c}\n",
    "    0\\\\\n",
    "    \\Delta\n",
    "    \\end{array}\\right]\\right)-f(\\boldsymbol{x}_{n-1})\n",
    "    \\end{array}\\right]\n",
    "    $$\n",
    "\n",
    "4. Stop if the maximum element in $|\\nabla f(\\boldsymbol{x}_{n-1})|$ is less than $\\epsilon$\n",
    "5. Set $\\theta = \\Theta$ \n",
    "6. Compute $f^{\\theta}_{n} = f(\\boldsymbol{x}_{n-1} - \\theta \\nabla f(\\boldsymbol{x}_{n-1}))$\n",
    "7. If $f^{\\theta}_{n} < f(\\boldsymbol{x}_{n-1})$ continue to step 9\n",
    "8. Set $\\theta = \\frac{\\theta}{2}$ and return to step 6     \n",
    "9. Set $x_{n} = x_{n-1} - \\theta \\nabla f(\\boldsymbol{x}_{n-1})$\n",
    "10. Set $n = n + 1$ and return to step 3"
   ]
  },
  {
   "cell_type": "markdown",
   "metadata": {},
   "source": [
    "**Question:** Implement the algorithm above such that the code below can run."
   ]
  },
  {
   "cell_type": "markdown",
   "metadata": {},
   "source": [
    "Define the rosenbrock function"
   ]
  },
  {
   "cell_type": "code",
   "execution_count": 2,
   "metadata": {},
   "outputs": [],
   "source": [
    "def _rosen(x1,x2):\n",
    "    f = (1.0-x1)**2 + 2*(x2-x1**2)**2\n",
    "\n",
    "x1 = sm.symbols('x_1')\n",
    "x2 = sm.symbols('x_2')\n",
    "f = (1.0-x1)**2 + 2*(x2-x1**2)**2\n"
   ]
  },
  {
   "cell_type": "code",
   "execution_count": 3,
   "metadata": {},
   "outputs": [],
   "source": [
    "\n",
    "def gradient_descent(f,x0,epsilon=1e-6,Theta=0.1,Delta=1e-8,max_iter=10_000):\n",
    "\n",
    "    # step 1: initialize\n",
    "    x = x0\n",
    "    fx = f(x0)\n",
    "    n = 1\n",
    "    \n",
    "    # step 2-6: iteration\n",
    "    while n < max_iter:\n",
    "\n",
    "        x1_variable=[x[0]+Delta,x[1]]\n",
    "        x2_variable=[x[0],x[1]+Delta]\n",
    "        # step 2: function and derivatives\n",
    "        def rosen_jac(x):\n",
    "            jac = np.zeros(2)\n",
    "            jac[0] = f(x1_variable)-f(x)\n",
    "            jac[1] = f(x2_variable)-f(x)\n",
    "            return jac*(1/Delta)\n",
    "        # step 3: check convergence\n",
    "        if np.max(np.array(abs(rosen_jac(x)))) < epsilon:\n",
    "            break\n",
    "\n",
    "        x_prev = x\n",
    "        fx_prev = fx\n",
    "        \n",
    "        # step 2: evaluate gradient\n",
    "        jacx = rosen_jac(x)\n",
    "       \n",
    "        # step 3: find good step size (line search)\n",
    "\n",
    "        fx_ast = np.inf\n",
    "        theta_ast = Theta\n",
    "        theta = Theta / 2\n",
    "        if fx < fx_ast:\n",
    "            fx_ast = fx\n",
    "            theta_ast = theta\n",
    "        \n",
    "        # step 4: update guess\n",
    "        x = x_prev - theta_ast * jacx\n",
    "                            \n",
    "        # step 5: check convergence\n",
    "        fx = f(x)\n",
    "        if fx > fx_prev:\n",
    "            break\n",
    "            \n",
    "        # d. update i\n",
    "        n += 1\n",
    "        \n",
    "    return x,n"
   ]
  },
  {
   "cell_type": "markdown",
   "metadata": {},
   "source": [
    "**Test case:**"
   ]
  },
  {
   "cell_type": "code",
   "execution_count": 4,
   "metadata": {},
   "outputs": [
    {
     "output_type": "stream",
     "name": "stdout",
     "text": "minimum found at (1.0000,1.0000) after 578 iterations\n"
    }
   ],
   "source": [
    "def rosen(x):\n",
    "    return (1.0-x[0])**2+2*(x[1]-x[0]**2)**2\n",
    "\n",
    "x0 = np.array([1.1,1.1])\n",
    "try:\n",
    "    x,it = gradient_descent(rosen,x0)\n",
    "    print(f'minimum found at ({x[0]:.4f},{x[1]:.4f}) after {it} iterations')\n",
    "    assert np.allclose(x,[1,1])\n",
    "except:\n",
    "    print('not implemented yet')"
   ]
  },
  {
   "cell_type": "code",
   "execution_count": 5,
   "metadata": {},
   "outputs": [
    {
     "output_type": "execute_result",
     "data": {
      "text/plain": "(array([1.00000114, 1.00000253]), 578)"
     },
     "metadata": {},
     "execution_count": 5
    }
   ],
   "source": [
    "gradient_descent(rosen,x0)"
   ]
  },
  {
   "cell_type": "markdown",
   "metadata": {},
   "source": [
    "Can use Nelder-Mead without analytical hessian\n",
    "\n",
    "Newton if we have the analytical hessian\n",
    "\n",
    "BFGS is the best without analytical\n",
    "\n",
    "Maybe potential step sizes are the theta function with theta/2\n",
    "\n",
    "##"
   ]
  }
 ],
 "metadata": {
  "language_info": {
   "codemirror_mode": {
    "name": "ipython",
    "version": 3
   },
   "file_extension": ".py",
   "mimetype": "text/x-python",
   "name": "python",
   "nbconvert_exporter": "python",
   "pygments_lexer": "ipython3",
   "version": "3.7.4-final"
  },
  "orig_nbformat": 2,
  "kernelspec": {
   "name": "python3",
   "display_name": "Python 3"
  }
 },
 "nbformat": 4,
 "nbformat_minor": 2
}