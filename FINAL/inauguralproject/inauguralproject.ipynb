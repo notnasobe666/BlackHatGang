{
 "cells": [
  {
   "cell_type": "markdown",
   "metadata": {},
   "source": [
    "# Inaugural Project"
   ]
  },
  {
   "cell_type": "markdown",
   "metadata": {},
   "source": [
    "This project aims to apply a simple numerical solution and a simulation. A labor supply problem is given as presented below: "
   ]
  },
  {
   "cell_type": "markdown",
   "metadata": {},
   "source": [
    "$$\n",
    "\\begin{aligned}\n",
    "c^{*}, l^{*}=arg \\;\\underset{c,l}{max} \\;log(c)-v \\cdot \\frac{l^{1+\\frac{1}{\\epsilon}}}{1+\\frac{1}{\\epsilon}}\n",
    "\\end{aligned}\n",
    "$$<br>\n",
    "<br>\n",
    "$$\n",
    "\\textit{s.t.} \n",
    "$$\n",
    "<br>\n",
    "$$\n",
    "x=m+wl-[\\tau_0wl+\\tau_1 \\max{wl-\\kappa,0}]\\\\\n",
    "c\\in[0,x]\\\\\n",
    "l\\in [0,1]\n",
    "$$\n",
    "\n",
    "We notice that because utility is monotically increasing the optimal consumption is given by \n",
    "$$\n",
    "c^*=x\n",
    "$$"
   ]
  },
  {
   "cell_type": "markdown",
   "metadata": {},
   "source": [
    "Imported packages are imported below and the assignment is solved by chronological order. "
   ]
  },
  {
   "cell_type": "code",
   "execution_count": 3,
   "metadata": {},
   "outputs": [
    {
     "name": "stdout",
     "output_type": "stream",
     "text": [
      "The autoreload extension is already loaded. To reload it, use:\n",
      "  %reload_ext autoreload\n"
     ]
    }
   ],
   "source": [
    "# First all used packages are loaded \n",
    "import numpy as np \n",
    "from scipy import optimize \n",
    "import matplotlib.pyplot as plt \n",
    "import math\n",
    "\n",
    "# autoreload modules when code is run\n",
    "%load_ext autoreload\n",
    "%autoreload 2"
   ]
  },
  {
   "cell_type": "markdown",
   "metadata": {
    "toc-hr-collapsed": true
   },
   "source": [
    "<h1> Question 1"
   ]
  },
  {
   "cell_type": "markdown",
   "metadata": {},
   "source": [
    "To solve the maximization problem given in eq. (1), we define the variables, utility function labor supply, and set up our equilibrium of having consumption equal to total resources. We then maximize the utility function with respect to our constraints by printing the optimal labor supply, optimal consumption, and utility."
   ]
  },
  {
   "cell_type": "code",
   "execution_count": 4,
   "metadata": {},
   "outputs": [
    {
     "name": "stdout",
     "output_type": "stream",
     "text": [
      "Optimized labour supply is: 0.34\n",
      "Optimized consumption is:  1.10\n",
      "Optimal utility is: 0.08\n"
     ]
    }
   ],
   "source": [
    "# Following variables is known\n",
    "m   = 1\n",
    "v   = 10\n",
    "e   = 0.3\n",
    "t0  = 0.4\n",
    "t1  = 0.1\n",
    "k   = 0.4\n",
    "w   = 0.5\n",
    "\n",
    "# Now the model equations are defined\n",
    "\n",
    "def x(m,w,l,t0,t1,k): \n",
    "    \"\"\"Budget constrain\"\"\"\n",
    "\n",
    "    return m + w*l - (t0*w*l + t1*max(w*l-k,0))\n",
    "# Defining the utility function\n",
    "def utility(l,c,e,v):\n",
    "    return math.log(c) - v * ((l** (1+(1/e)))/(1+ (1/e)))\n",
    "\n",
    "# Setting consumption equal to budget\n",
    "def labor_supply(l,e,v,m,w,t0,t1,k):\n",
    "    c = x(m,w,l,t0,t1,k)\n",
    "    return -utility(l,c,e,v)\n",
    "# Defining the supply problem optimizer\n",
    "def supply_problem(e,v,m,w,t0,t1,k):\n",
    "    solution =  optimize.minimize_scalar(labor_supply,method='bounded', \\\n",
    "                bounds=(0,1), args=(e,v,m,w,t0,t1,k))\n",
    "    l = solution.x\n",
    "    c = x(m,w,l,t0,t1,k)\n",
    "    u = utility(l,c,e,v)\n",
    "    return l,c,u\n",
    "\n",
    "# and the optimal values can now be printed as the constructed function solves eq. (1)\n",
    "l_star = supply_problem(e,v,m,w,t0,t1,k)[0]\n",
    "c_star = supply_problem(e,v,m,w,t0,t1,k)[1]\n",
    "u_star = supply_problem(e,v,m,w,t0,t1,k)[2]\n",
    "\n",
    "print(f'Optimized labour supply is: {l_star:.2f}')\n",
    "print(f'Optimized consumption is:  {c_star:.2f}')\n",
    "print(f'Optimal utility is: {u_star:.2f}')"
   ]
  },
  {
   "cell_type": "markdown",
   "metadata": {},
   "source": [
    "# Question 2"
   ]
  },
  {
   "cell_type": "markdown",
   "metadata": {},
   "source": [
    "To Plot $l^*$ and $c^*$ as a function of $w$ in the range of 0.5 and 1.5, we set up a vector $w_i$ that follows a uniform distribution as $w_i \\sim U(0.5\\hspace{1mm},\\hspace{1mm}1.5)$ with N = 10,000. Secondly, we empty the lists for $l$ and $c$ and generate a loop to return the optimal level of consumption and labor supply given the wage."
   ]
  },
  {
   "cell_type": "code",
   "execution_count": 5,
   "metadata": {},
   "outputs": [
    {
     "data": {
      "image/png": "[encoded data removed]",
      "text/plain": [
       "<Figure size 720x288 with 2 Axes>"
      ]
     },
     "metadata": {},
     "output_type": "display_data"
    }
   ],
   "source": [
    "N = 10000\n",
    "# vector of wages\n",
    "w_vec = np.linspace(0.5,1.5,N)\n",
    "l_vec = np.empty(N)\n",
    "c_vec = np.empty(N)\n",
    "\n",
    "for i, w in enumerate(w_vec):\n",
    "    opt = supply_problem(e,v,m,w_vec[i],t0,t1,k)\n",
    "    c_vec[i] = opt[0]\n",
    "    l_vec[i] = opt[1]\n",
    "\n",
    "# create the figures\n",
    "import matplotlib.pyplot as plt\n",
    "plt.style.use(\"seaborn\")\n",
    "\n",
    "fig = plt.figure(figsize=(10,4))\n",
    "\n",
    "fig_w_l = fig.add_subplot(1,2,1)\n",
    "fig_w_l.plot(w_vec,l_vec)\n",
    "\n",
    "fig_w_l.set_title('Optimal $l$')\n",
    "fig_w_l.set_xlabel('$w$')\n",
    "fig_w_l.set_ylabel('$l*$')\n",
    "fig_w_l.grid(True)\n",
    "\n",
    "fig_w_c = fig.add_subplot(1,2,2)\n",
    "fig_w_c.plot(w_vec,c_vec)\n",
    "\n",
    "fig_w_c.set_title('Optimal $c$')\n",
    "fig_w_c.set_xlabel('$w$')\n",
    "fig_w_c.set_ylabel('$c*$')\n",
    "fig_w_c.grid(True)"
   ]
  },
  {
   "cell_type": "markdown",
   "metadata": {},
   "source": [
    "# Question 3"
   ]
  },
  {
   "cell_type": "markdown",
   "metadata": {},
   "source": [
    "Total tax revenue is calculated and printed as a function of the number in the entire population and each individual in the population's tax revenue."
   ]
  },
  {
   "cell_type": "code",
   "execution_count": 6,
   "metadata": {},
   "outputs": [
    {
     "name": "stdout",
     "output_type": "stream",
     "text": [
      "The total tax revenue is 1627.2\n"
     ]
    }
   ],
   "source": [
    "# A function to return the total tax revenue is created\n",
    "np.random.seed(4600)\n",
    "PopulationWageLarge = np.random.uniform(0.5,1.5,size=10000)\n",
    "\n",
    "def TotalTax(PopulationWageVec,e,v,t0,t1,k,m):\n",
    "\n",
    "# Return an array for individual tax payments\n",
    "    N=len(PopulationWageVec)\n",
    "    PopulationTaxes=np.zeros((N))\n",
    "\n",
    "    for i,w in enumerate(PopulationWageVec):\n",
    "        # Return optimal labour supply given optimize functions in Q1\n",
    "        Ind_optimum=supply_problem(e,v,m,w,t0,t1,k)\n",
    "        IndLabour=Ind_optimum[0]\n",
    "        # Optimal invidual taxpayment with optimal labor\n",
    "        PopulationTaxes[i]=t0*w*IndLabour+t1*max(w*IndLabour-k,0)\n",
    "    # Sum\n",
    "    TotTax=sum(PopulationTaxes)\n",
    "    return TotTax\n",
    "\n",
    "# Total tax functions with random uniform dis.\n",
    "TotTax0 = TotalTax(PopulationWageLarge,e,v,t0,t1,k,m)\n",
    "print(f'The total tax revenue is {TotTax0:.1f}')"
   ]
  },
  {
   "cell_type": "markdown",
   "metadata": {},
   "source": [
    "# Question 4"
   ]
  },
  {
   "cell_type": "markdown",
   "metadata": {},
   "source": [
    "We now change the Frisch elasticity of labor supply, $\\epsilon$, from 0.3 to 0.1 and print the new tax revenue using the same formula as created in question 3."
   ]
  },
  {
   "cell_type": "code",
   "execution_count": 7,
   "metadata": {},
   "outputs": [
    {
     "name": "stdout",
     "output_type": "stream",
     "text": [
      "The total tax revenue is 3191.2\n"
     ]
    }
   ],
   "source": [
    "# Frisch Elasticity changed from 0.3 to 0.1\n",
    "e_new = 0.1\n",
    "\n",
    "# The new total tax revenue can now be calculated and printed\n",
    "TotTax_e_new = TotalTax(PopulationWageLarge,e_new,v,t0,t1,k,m)\n",
    "print(f'The total tax revenue is {TotTax_e_new:.1f}')"
   ]
  },
  {
   "cell_type": "markdown",
   "metadata": {},
   "source": [
    "# Question 5"
   ]
  },
  {
   "cell_type": "markdown",
   "metadata": {},
   "source": [
    "To maximize the total tax revenue we define a vector that maximizes tax revenue, by finding new levels of $\\tau_0$, $\\tau_1$ and $\\kappa$. We find the optimal tax level inbetween the previous found levels which also concludes the optimal level. "
   ]
  },
  {
   "cell_type": "code",
   "execution_count": null,
   "metadata": {},
   "outputs": [
    {
     "name": "stdout",
     "output_type": "stream",
     "text": [
      "Optimal taxe rates and revenue, with N=100\n",
      "Optimal standard income tax rate is 0.786\n",
      "Optimal top bracet tax rate is 0.622\n",
      "Optimal cut-off income is 0.534\n",
      "Total tax revenue = 2462.34\n",
      "Optimal taxe rates and revenue, with N=10000\n"
     ]
    }
   ],
   "source": [
    "# A smaller population size is defined to easen the calculations\n",
    "PopulationWageSmall = np.random.uniform(0.5,1.5,size=100)\n",
    "\n",
    "def value_of_choice_tax(taxes,PopulationWage,e,v,m):\n",
    "    \n",
    "    t0  = taxes[0]\n",
    "    t1  = taxes[1]\n",
    "    k   = taxes[2]\n",
    "    return -TotalTax(PopulationWage,e,v,t0,t1,k,m)\n",
    "\n",
    "# Finds the tax maximising values of the vector 'taxes'.\n",
    "def taxOptimiser(PopulationWage,e,v,m):\n",
    "    \n",
    "    initial_guess   = [0.8,0.6,0.5]\n",
    "    sol_case3       = optimize.minimize(\n",
    "        value_of_choice_tax,initial_guess,method='Nelder-Mead',args=(PopulationWage,e,v,m))\n",
    "\n",
    "    t0Star=sol_case3.x[0]\n",
    "    t1Star=sol_case3.x[1]\n",
    "    kStar=sol_case3.x[2]\n",
    "\n",
    "    # Print the solution   \n",
    "    print(f'Optimal standard income tax rate is {t0Star:.3f}')\n",
    "    print(f'Optimal top bracet tax rate is {t1Star:.3f}')\n",
    "    print(f'Optimal cut-off income is {kStar:.3f}')\n",
    "    \n",
    "    return[t0Star,t1Star,kStar]\n",
    "\n",
    "print('Optimal taxe rates and revenue, with N=100')\n",
    "[t0Star,t1Star,kStar]= taxOptimiser(PopulationWageSmall,e,v,m)\n",
    "TotTaxSmall = TotalTax(PopulationWageLarge,e,v,t0Star,t1Star,kStar,m)\n",
    "print(f'Total tax revenue = {TotTaxSmall:.2f}')\n",
    "\n",
    "print('Optimal taxe rates and revenue, with N=10000')\n",
    "[t0Star,t1Star,kStar]=taxOptimiser(PopulationWageLarge,e,v,m)\n",
    "TotTaxLarge = TotalTax(PopulationWageLarge,e,v,t0Star,t1Star,kStar,m)\n",
    "print(f'Total tax revenue = {TotTaxLarge:.2f}')"
   ]
  },
  {
   "cell_type": "markdown",
   "metadata": {},
   "source": [
    "# Final remarks"
   ]
  },
  {
   "cell_type": "markdown",
   "metadata": {},
   "source": [
    "Firstly we have set up the model, which through our simulations shows that increasing wages increase labour supply and consumption. Later, we lower the assumed Frisch-elasticity which makes taxes less distortionary resulting in higher tax revenue. Lastly, we maximise the tax revenue and find the optimal standard tax to be 78 pct., the top tax bracet cut off to be 0.58, and the top tax to be 54 pct. These are high levels of taxation compared to the current tax rates in Denmark."
   ]
  }
 ],
 "metadata": {
  "kernelspec": {
   "display_name": "Python 3",
   "language": "python",
   "name": "python3"
  },
  "language_info": {
   "codemirror_mode": {
    "name": "ipython",
    "version": 3
   },
   "file_extension": ".py",
   "mimetype": "text/x-python",
   "name": "python",
   "nbconvert_exporter": "python",
   "pygments_lexer": "ipython3",
   "version": "3.7.4"
  },
  "toc-autonumbering": true
 },
 "nbformat": 4,
 "nbformat_minor": 4
}
